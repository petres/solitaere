{
 "cells": [
  {
   "cell_type": "code",
   "execution_count": 1,
   "metadata": {},
   "outputs": [],
   "source": [
    "import numpy as np\n",
    "import json\n",
    "from random import randint, shuffle"
   ]
  },
  {
   "cell_type": "markdown",
   "metadata": {},
   "source": [
    "### GAME CLASS"
   ]
  },
  {
   "cell_type": "code",
   "execution_count": 2,
   "metadata": {},
   "outputs": [],
   "source": [
    "class Game:\n",
    "    mask = None\n",
    "    \n",
    "    @classmethod\n",
    "    def getField(cls, v = 0):\n",
    "        f = np.full((7, 7), v, dtype=int)    \n",
    "        for i in [0, 1, 5, 6]:\n",
    "            for j in [0, 1, 5, 6]:\n",
    "                f[i, j] = -1\n",
    "        \n",
    "        if cls.mask is None:\n",
    "            cls.mask = (f != -1).flatten()\n",
    "        \n",
    "        return f  \n",
    "    \n",
    "    def __init__(self):\n",
    "        self.field = self.getField(1)\n",
    "        self.field[3, 3] = 0\n",
    "        self.turns = []\n",
    "        \n",
    "    def __str__(self):\n",
    "        s = ''\n",
    "        lastTurn = None\n",
    "        if len(self.turns) > 0:\n",
    "            lastTurn = self.turns[-1]\n",
    "        for i in range(7):\n",
    "            for j in range(7):\n",
    "                v = self.field[i, j]\n",
    "                if v == -1:\n",
    "                    c = ' '\n",
    "                elif v == 1:\n",
    "                    c = '◉'\n",
    "                elif v == 0:\n",
    "                    c = '◌'\n",
    "                if lastTurn and (i, j) in lastTurn:\n",
    "                    c = \"\\x1b[31m%s\\x1b[0m\" % c\n",
    "                s += '%s ' % c \n",
    "            s += '\\n'\n",
    "        return s\n",
    "    \n",
    "    def printTurns(self):\n",
    "        gt = Game() \n",
    "        for e in self.turns:\n",
    "            gt.turn(e[0], e[1])\n",
    "            print(gt)\n",
    "\n",
    "    def asBoolArray(self):\n",
    "        return self.field.flatten()[Game.mask].astype(bool)\n",
    "    \n",
    "    # def asTuple(self):\n",
    "    #     return tuple(self.asBoolArray())\n",
    "    \n",
    "    def asInt(self):\n",
    "        return sum([b << i for i, b in enumerate(self.asBoolArray())])\n",
    "    \n",
    "    def isFinished(self, strict = False):\n",
    "        if sum(self.asBoolArray()) > 1:\n",
    "            return False\n",
    "        \n",
    "        if not strict:\n",
    "            return True\n",
    "        \n",
    "        if self.field[3, 3] == 1:\n",
    "            return True\n",
    "        \n",
    "        return False\n",
    "\n",
    "    def isFinished2(self, field):\n",
    "        return np.array_equal(self.field, field)\n",
    "    \n",
    "    def getFieldsWithValue(self, v):\n",
    "        return list(zip(*np.where(self.field == v)))\n",
    "    \n",
    "    def turn(self, f, t):\n",
    "        (fx, fy), (tx, ty) = (f, t)\n",
    "        self.field[fx, fy] = 0\n",
    "        self.field[(fx + tx)//2, (fy + ty)//2] = 0\n",
    "        self.field[tx, ty] = 1\n",
    "        self.turns.append((f, t))\n",
    "    \n",
    "    def undoLastTurn(self):\n",
    "        (fx, fy), (tx, ty) = self.turns.pop()\n",
    "        self.field[fx, fy] = 1\n",
    "        self.field[(fx + tx)//2, (fy + ty)//2] = 1\n",
    "        self.field[tx, ty] = 0\n",
    "    \n",
    "    def getPossibleTurns(self):\n",
    "        td = {}\n",
    "        ts = []\n",
    "        l0 = self.getFieldsWithValue(0)\n",
    "        l1 = self.getFieldsWithValue(1)\n",
    "        # [((2, 0), (1, 0)), ((0, 2), (0, 1))\n",
    "        if len(l0) < len(l1):\n",
    "            for x, y in l0:\n",
    "                t = []\n",
    "                if (x + 2, y) in l1 and (x + 1, y) in l1:\n",
    "                    t.append((x + 2, y))\n",
    "                if (x - 2, y) in l1 and (x - 1, y) in l1:\n",
    "                    t.append((x - 2, y))\n",
    "                if (x, y + 2) in l1 and (x, y + 1) in l1:\n",
    "                    t.append((x, y + 2))\n",
    "                if (x, y - 2) in l1 and (x, y - 1) in l1:\n",
    "                    t.append((x, y - 2))\n",
    "                #td[(x,y)] = t\n",
    "                ts.extend(list(zip(t, [(x, y)]*len(t))))\n",
    "        else:\n",
    "            for x, y in l1:\n",
    "                t = []\n",
    "                if (x + 2, y) in l0 and (x + 1, y) in l1:\n",
    "                    t.append((x + 2, y))\n",
    "                if (x - 2, y) in l0 and (x - 1, y) in l1:\n",
    "                    t.append((x - 2, y))\n",
    "                if (x, y + 2) in l0 and (x, y + 1) in l1:\n",
    "                    t.append((x, y + 2))\n",
    "                if (x, y - 2) in l0 and (x, y - 1) in l1:\n",
    "                    t.append((x, y - 2))\n",
    "                #td[(x,y)] = t\n",
    "                ts.extend(list(zip([(x, y)]*len(t), t)))\n",
    "        return ts\n",
    "            "
   ]
  },
  {
   "cell_type": "markdown",
   "metadata": {},
   "source": [
    "### TEST GAME CLASS"
   ]
  },
  {
   "cell_type": "code",
   "execution_count": 3,
   "metadata": {},
   "outputs": [
    {
     "name": "stdout",
     "output_type": "stream",
     "text": [
      "    ◉ ◉ ◉     \n",
      "    ◉ ◉ ◉     \n",
      "◉ ◉ ◉ ◉ ◉ ◉ ◉ \n",
      "◉ ◉ ◉ ◌ ◉ ◉ ◉ \n",
      "◉ ◉ ◉ ◉ ◉ ◉ ◉ \n",
      "    ◉ ◉ ◉     \n",
      "    ◉ ◉ ◉     \n",
      "\n",
      "((5, 3), (3, 3))\n",
      "    ◉ ◉ ◉     \n",
      "    ◉ ◉ ◉     \n",
      "◉ ◉ ◉ ◉ ◉ ◉ ◉ \n",
      "◉ ◉ ◉ \u001b[31m◉\u001b[0m ◉ ◉ ◉ \n",
      "◉ ◉ ◉ ◌ ◉ ◉ ◉ \n",
      "    ◉ \u001b[31m◌\u001b[0m ◉     \n",
      "    ◉ ◉ ◉     \n",
      "\n",
      "    ◉ ◉ ◉     \n",
      "    ◉ ◉ ◉     \n",
      "◉ ◉ ◉ ◉ ◉ ◉ ◉ \n",
      "◉ ◉ ◉ ◌ ◉ ◉ ◉ \n",
      "◉ ◉ ◉ ◉ ◉ ◉ ◉ \n",
      "    ◉ ◉ ◉     \n",
      "    ◉ ◉ ◉     \n",
      "\n"
     ]
    },
    {
     "data": {
      "text/plain": [
       "[]"
      ]
     },
     "execution_count": 3,
     "metadata": {},
     "output_type": "execute_result"
    }
   ],
   "source": [
    "g = Game()\n",
    "print(g)\n",
    "ts = g.getPossibleTurns()\n",
    "t = ts[0]\n",
    "print(t)\n",
    "g.turn(*t)\n",
    "print(g)\n",
    "g.asInt()\n",
    "g.undoLastTurn()\n",
    "print(g)\n",
    "g.turns"
   ]
  },
  {
   "cell_type": "code",
   "execution_count": null,
   "metadata": {},
   "outputs": [],
   "source": [
    "targetField = Game()\n",
    "targetField.field = Game.getField(0)\n",
    "# targetField.field[1, 3] = 0\n",
    "# targetField.field[2, 2] = 0\n",
    "# targetField.field[2, 3] = 0\n",
    "# targetField.field[2, 4] = 0\n",
    "# targetField.field[3, 2] = 0\n",
    "targetField.field[3, 3] = 1\n",
    "# targetField.field[3, 4] = 0\n",
    "# targetField.field[4, 2] = 0\n",
    "# targetField.field[4, 3] = 0\n",
    "# targetField.field[4, 4] = 0\n",
    "# targetField.field[5, 3] = 0\n",
    "\n",
    "# targetField.field[3, 5] = 0\n",
    "# targetField.field[3, 1] = 0\n",
    "print(targetField)\n",
    "sum(targetField.asBoolArray())\n",
    "targetField.sum = 33 - sum(targetField.asBoolArray())\n",
    "targetField.sum"
   ]
  },
  {
   "cell_type": "markdown",
   "metadata": {},
   "source": [
    "### BRUTE FORCE WITH MEMORY"
   ]
  },
  {
   "cell_type": "code",
   "execution_count": null,
   "metadata": {},
   "outputs": [],
   "source": [
    "game = Game()\n",
    "mem = set()\n",
    "def rec(game, i = 1):\n",
    "    if i == targetField.sum:\n",
    "        return game.isFinished2(targetField.field)\n",
    "    \n",
    "    for turn in game.getPossibleTurns():\n",
    "        game.turn(*turn)\n",
    "        fieldInt = game.asInt()\n",
    "        if fieldInt not in mem:\n",
    "            mem.add(fieldInt)\n",
    "            if rec(game, i + 1):\n",
    "                return True\n",
    "        game.undoLastTurn()\n",
    "        \n",
    "    return False\n",
    "        \n",
    "%prun print(rec(game))\n",
    "#print(len(mem))\n"
   ]
  },
  {
   "cell_type": "markdown",
   "metadata": {},
   "source": [
    "### BRUTE FORCE"
   ]
  },
  {
   "cell_type": "code",
   "execution_count": null,
   "metadata": {
    "scrolled": false
   },
   "outputs": [],
   "source": [
    "g = Game()\n",
    "#g.field = np.zeros((7, 7), dtype=int)\n",
    "#g.field[4, 4] = 1\n",
    "#g.field[4, 5] = 1\n",
    "#g.field[4, 3] = 1\n",
    "\n",
    "im = 100\n",
    "s = False\n",
    "mem = set()\n",
    "def rec(g, i = 0):\n",
    "    ts = g.getPossibleTurns()\n",
    "    shuffle(ts)\n",
    "    \n",
    "#     global im, s\n",
    "#     if i < im and s:\n",
    "#         print(i)\n",
    "#         im = i\n",
    "        \n",
    "    if len(ts) == 0:\n",
    "        # s = True\n",
    "        return g.isFinished()\n",
    "    \n",
    "    for t in ts:\n",
    "        g.turn(*t)\n",
    "        tf = g.asInt()\n",
    "        if tf not in mem:\n",
    "            mem.add(tf)\n",
    "            a = rec(g, i + 1)\n",
    "            if a:\n",
    "                return True\n",
    "        g.undoLastTurn()\n",
    "        \n",
    "    return False\n",
    "        \n",
    "print(rec(g))\n",
    "print(len(mem))"
   ]
  },
  {
   "cell_type": "code",
   "execution_count": null,
   "metadata": {},
   "outputs": [],
   "source": [
    "print(g)"
   ]
  },
  {
   "cell_type": "code",
   "execution_count": null,
   "metadata": {},
   "outputs": [],
   "source": [
    "g.printTurns()"
   ]
  },
  {
   "cell_type": "code",
   "execution_count": null,
   "metadata": {},
   "outputs": [],
   "source": [
    "# RANDOM\n",
    "while True:\n",
    "    g = Game()\n",
    "    ats = []\n",
    "    while True:\n",
    "        ts = g.getPossibleTurns()\n",
    "        if len(ts) == 0:\n",
    "            break\n",
    "        t = ts[randint(0, len(ts)-1)]\n",
    "        ats.append(t)\n",
    "        g.turn(*t)\n",
    "    l = len(g.getFieldsWithValue(1))\n",
    "    if l <= 2:\n",
    "        #break\n",
    "        print(l)\n",
    "    if l == 1:\n",
    "        break\n",
    "print(g)"
   ]
  }
 ],
 "metadata": {
  "kernelspec": {
   "display_name": "Python 3",
   "language": "python",
   "name": "python3"
  },
  "language_info": {
   "codemirror_mode": {
    "name": "ipython",
    "version": 3
   },
   "file_extension": ".py",
   "mimetype": "text/x-python",
   "name": "python",
   "nbconvert_exporter": "python",
   "pygments_lexer": "ipython3",
   "version": "3.8.3"
  }
 },
 "nbformat": 4,
 "nbformat_minor": 2
}
